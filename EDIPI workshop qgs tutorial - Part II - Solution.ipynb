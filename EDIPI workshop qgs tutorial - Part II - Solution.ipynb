{
 "cells": [
  {
   "cell_type": "markdown",
   "metadata": {},
   "source": [
    "# EDIPI Workshop qgs tutorial - Part II: Computing the full Lyapunov Spectrum"
   ]
  },
  {
   "cell_type": "markdown",
   "metadata": {},
   "source": [
    "This notebook is the second one of a tutorial given during the EDIPI workshop at RMI in January 2023.\n",
    "In this tutorial, you will learn:\n",
    "\n",
    "1. How to install the [qgs](https://github.com/Climdyn/qgs) framework for low-order climate and weather modeling\n",
    "2. How to run the model\n",
    "3. How to compute the Largest Lyapunov Exponent (LLE) in the model\n",
    "4. **How to compute the full Lyapunov Exponent spectrum**\n",
    "5. How to compute the correlation properties of the underlying dynamical model"
   ]
  },
  {
   "cell_type": "markdown",
   "metadata": {},
   "source": [
    "Here we will be concerned with task 4 above: learning how to compute the full [Lyapunov exponent](https://en.wikipedia.org/wiki/Lyapunov_exponent) spectrum in the model."
   ]
  },
  {
   "cell_type": "markdown",
   "metadata": {},
   "source": [
    "We assume that you have already been through the [Introduction notebook](https://github.com/jodemaey/EDIPI-qgs-tutorial-on-predictability/blob/main/EDIPI%20workshop%20qgs%20tutorial%20-%20Introduction.ipynb), qgs and the tutorial being installed."
   ]
  },
  {
   "cell_type": "markdown",
   "metadata": {},
   "source": [
    "## Setup of the model"
   ]
  },
  {
   "cell_type": "markdown",
   "metadata": {},
   "source": [
    "We use again the simple 2-layer channel QG atmosphere truncated at wavenumber 2 on a beta-plane with a simple orography (a montain and a valley), as in the Introduction notebook. But now, we are going to use qgs [`lyapunov` toolbox](https://qgs.readthedocs.io/en/latest/files/technical/toolbox.html#lyapunov-module) to compute the full Lyapunov spectrum."
   ]
  },
  {
   "cell_type": "markdown",
   "metadata": {},
   "source": [
    "First, we need to load the model, and integrate it to find an initial condition on the attractor, as in the Introduction notebook:"
   ]
  },
  {
   "cell_type": "markdown",
   "metadata": {},
   "source": [
    "### Modules import"
   ]
  },
  {
   "cell_type": "markdown",
   "metadata": {},
   "source": [
    "First, load some modules"
   ]
  },
  {
   "cell_type": "code",
   "execution_count": 1,
   "metadata": {},
   "outputs": [],
   "source": [
    "import numpy as np\n",
    "import matplotlib.pyplot as plt"
   ]
  },
  {
   "cell_type": "markdown",
   "metadata": {},
   "source": [
    "Importing the model's modules"
   ]
  },
  {
   "cell_type": "code",
   "execution_count": 2,
   "metadata": {},
   "outputs": [],
   "source": [
    "from qgs.params.params import QgParams\n",
    "from qgs.integrators.integrator import RungeKuttaIntegrator, RungeKuttaTglsIntegrator\n",
    "from qgs.functions.tendencies import create_tendencies\n",
    "from qgs.plotting.util import std_plot"
   ]
  },
  {
   "cell_type": "markdown",
   "metadata": {},
   "source": [
    "and diagnostics"
   ]
  },
  {
   "cell_type": "code",
   "execution_count": 3,
   "metadata": {},
   "outputs": [],
   "source": [
    "from qgs.diagnostics.streamfunctions import MiddleAtmosphericStreamfunctionDiagnostic\n",
    "from qgs.diagnostics.variables import VariablesDiagnostic\n",
    "from qgs.diagnostics.multi import MultiDiagnostic"
   ]
  },
  {
   "cell_type": "markdown",
   "metadata": {},
   "source": [
    "### Defining the model"
   ]
  },
  {
   "cell_type": "markdown",
   "metadata": {},
   "source": [
    "First, we define some general parameters"
   ]
  },
  {
   "cell_type": "code",
   "execution_count": 4,
   "metadata": {},
   "outputs": [],
   "source": [
    "# Time increment parameter\n",
    "dt = 0.1\n",
    "# Saving the model state every 5 steps\n",
    "write_steps = 5"
   ]
  },
  {
   "cell_type": "markdown",
   "metadata": {},
   "source": [
    "Now we create the model parameters object:"
   ]
  },
  {
   "cell_type": "code",
   "execution_count": 5,
   "metadata": {},
   "outputs": [],
   "source": [
    "model_parameters = QgParams()"
   ]
  },
  {
   "cell_type": "markdown",
   "metadata": {},
   "source": [
    "We set up some parameters:"
   ]
  },
  {
   "cell_type": "code",
   "execution_count": 6,
   "metadata": {},
   "outputs": [],
   "source": [
    "# here we define the latitude to be 50 degrees and a predefined amplitude of the meridional temperature gradient\n",
    "model_parameters.set_params({'phi0_npi': np.deg2rad(50.)/np.pi, 'hd':0.045})"
   ]
  },
  {
   "cell_type": "markdown",
   "metadata": {},
   "source": [
    "and indicate that we want an atmospheric channel for the atmosphere, with Fourier modes up to wavenumber 2 in each spatial direction:"
   ]
  },
  {
   "cell_type": "code",
   "execution_count": 7,
   "metadata": {},
   "outputs": [],
   "source": [
    "model_parameters.set_atmospheric_channel_fourier_modes(2, 2)"
   ]
  },
  {
   "cell_type": "markdown",
   "metadata": {},
   "source": [
    "We also set some topography"
   ]
  },
  {
   "cell_type": "code",
   "execution_count": 8,
   "metadata": {},
   "outputs": [],
   "source": [
    "model_parameters.ground_params.set_orography(0.2, 1)"
   ]
  },
  {
   "cell_type": "markdown",
   "metadata": {},
   "source": [
    "and indicate the amplitude of the meridional temperature gradient which forces the model:"
   ]
  },
  {
   "cell_type": "code",
   "execution_count": 9,
   "metadata": {},
   "outputs": [],
   "source": [
    "model_parameters.atemperature_params.set_thetas(0.1, 0)"
   ]
  },
  {
   "cell_type": "markdown",
   "metadata": {},
   "source": [
    "and we are done configuring the model."
   ]
  },
  {
   "cell_type": "markdown",
   "metadata": {},
   "source": [
    "Finally, we create the tendencies $\\boldsymbol{f}$ that will allow us to integrate the model equations:"
   ]
  },
  {
   "cell_type": "code",
   "execution_count": 10,
   "metadata": {},
   "outputs": [
    {
     "name": "stdout",
     "output_type": "stream",
     "text": [
      "CPU times: user 6.5 s, sys: 764 ms, total: 7.27 s\n",
      "Wall time: 6.47 s\n"
     ]
    }
   ],
   "source": [
    "%%time\n",
    "f, Df = create_tendencies(model_parameters)"
   ]
  },
  {
   "cell_type": "markdown",
   "metadata": {},
   "source": [
    "### Time integration"
   ]
  },
  {
   "cell_type": "markdown",
   "metadata": {},
   "source": [
    "We now integrate our model with the qgs built-in integrator:"
   ]
  },
  {
   "cell_type": "code",
   "execution_count": 11,
   "metadata": {},
   "outputs": [],
   "source": [
    "integrator = RungeKuttaIntegrator()"
   ]
  },
  {
   "cell_type": "markdown",
   "metadata": {},
   "source": [
    "We tell this integrator to use our defined model"
   ]
  },
  {
   "cell_type": "code",
   "execution_count": 12,
   "metadata": {},
   "outputs": [],
   "source": [
    "integrator.set_func(f)"
   ]
  },
  {
   "cell_type": "markdown",
   "metadata": {},
   "source": [
    "We can now start from a small random initial condition and integrate over a transient time to obtain an initial condition on the attractors"
   ]
  },
  {
   "cell_type": "code",
   "execution_count": 13,
   "metadata": {},
   "outputs": [
    {
     "name": "stdout",
     "output_type": "stream",
     "text": [
      "CPU times: user 7.22 ms, sys: 25.8 ms, total: 33 ms\n",
      "Wall time: 10.1 s\n"
     ]
    }
   ],
   "source": [
    "%%time\n",
    "ic = np.random.rand(model_parameters.ndim)*0.1\n",
    "integrator.integrate(0., 200000., dt, ic=ic, write_steps=0)  # write_steps=0 will only give us the last step\n",
    "time, ic = integrator.get_trajectories()"
   ]
  },
  {
   "cell_type": "markdown",
   "metadata": {},
   "source": [
    "and we are ready to start our exercise on the computation of the full Lyapunov spectrum."
   ]
  },
  {
   "cell_type": "markdown",
   "metadata": {},
   "source": [
    "## Exercise: Computing the full spectrum"
   ]
  },
  {
   "cell_type": "markdown",
   "metadata": {},
   "source": [
    "Use the [documentation](https://qgs.readthedocs.io/en/latest/files/technical/toolbox.html#lyapunov-module) and the [following example notebook](https://github.com/Climdyn/qgs/blob/master/notebooks/lyapunov/simple_model_lyapunov.ipynb) to help you write the code to compute the full spectrum."
   ]
  },
  {
   "cell_type": "code",
   "execution_count": 14,
   "metadata": {},
   "outputs": [],
   "source": [
    "from qgs.toolbox.lyapunov import LyapunovsEstimator"
   ]
  },
  {
   "cell_type": "code",
   "execution_count": 15,
   "metadata": {},
   "outputs": [],
   "source": [
    "lvint = LyapunovsEstimator()"
   ]
  },
  {
   "cell_type": "code",
   "execution_count": 16,
   "metadata": {},
   "outputs": [
    {
     "name": "stderr",
     "output_type": "stream",
     "text": [
      "/scratch/jodemaey/projects/qgs_lyap_dev/qgs/toolbox/lyapunov.py:557: NumbaPerformanceWarning: \u001b[1m\u001b[1m\u001b[1m\u001b[1m\u001b[1m'@' is faster on contiguous arrays, called on (array(float64, 2d, A), array(float64, 2d, C))\u001b[0m\u001b[0m\u001b[0m\u001b[0m\u001b[0m\n",
      "  recorded_traj, recorded_exp, recorded_vec = _compute_backward_lyap_traj_jit(f, fjac, pretime, time, ttraj, mdt,\n",
      "/scratch/jodemaey/projects/qgs_lyap_dev/qgs/toolbox/lyapunov.py:557: NumbaPerformanceWarning: \u001b[1m\u001b[1m\u001b[1m\u001b[1m'@' is faster on contiguous arrays, called on (array(float64, 2d, A), array(float64, 2d, C))\u001b[0m\u001b[0m\u001b[0m\u001b[0m\n",
      "  recorded_traj, recorded_exp, recorded_vec = _compute_backward_lyap_traj_jit(f, fjac, pretime, time, ttraj, mdt,\n",
      "/scratch/jodemaey/projects/qgs_lyap_dev/qgs/toolbox/lyapunov.py:557: NumbaPerformanceWarning: \u001b[1m\u001b[1m\u001b[1m'@' is faster on contiguous arrays, called on (array(float64, 2d, A), array(float64, 2d, A))\u001b[0m\u001b[0m\u001b[0m\n",
      "  recorded_traj, recorded_exp, recorded_vec = _compute_backward_lyap_traj_jit(f, fjac, pretime, time, ttraj, mdt,\n",
      "/scratch/jodemaey/projects/qgs_lyap_dev/qgs/toolbox/lyapunov.py:557: NumbaPerformanceWarning: \u001b[1m\u001b[1m'@' is faster on contiguous arrays, called on (array(float64, 2d, A), array(float64, 2d, A))\u001b[0m\u001b[0m\n",
      "  recorded_traj, recorded_exp, recorded_vec = _compute_backward_lyap_traj_jit(f, fjac, pretime, time, ttraj, mdt,\n"
     ]
    },
    {
     "name": "stdout",
     "output_type": "stream",
     "text": [
      "CPU times: user 155 ms, sys: 1.59 s, total: 1.75 s\n",
      "Wall time: 28 s\n"
     ]
    }
   ],
   "source": [
    "%%time\n",
    "\n",
    "lvint.set_func(f, Df)\n",
    "lvint.compute_lyapunovs(0., 10000., 20000., 0.1, 0.1, ic, write_steps=1)\n",
    "btl, btraj, bexp, bvec = lvint.get_lyapunovs()"
   ]
  },
  {
   "cell_type": "code",
   "execution_count": 17,
   "metadata": {
    "scrolled": true
   },
   "outputs": [
    {
     "data": {
      "image/png": "[encoded data removed]",
      "text/plain": [
       "<Figure size 1080x288 with 1 Axes>"
      ]
     },
     "metadata": {
      "needs_background": "light"
     },
     "output_type": "display_data"
    }
   ],
   "source": [
    "plt.figure(figsize=(15, 4))\n",
    "\n",
    "mean_exp = np.mean(bexp, axis=-1) / model_parameters.dimensional_time\n",
    "\n",
    "x_pos = np.arange(1.,model_parameters.ndim+1,1)\n",
    "\n",
    "plt.bar(x_pos, mean_exp)\n",
    "\n",
    "plt.xticks(x_pos, map(str,range(1, model_parameters.ndim+1,1)))\n",
    "\n",
    "plt.xlim(x_pos[0]-1., x_pos[-1]+1.)\n",
    "plt.ylim(np.min(mean_exp)-0.1, np.max(mean_exp)+0.1)\n",
    "\n",
    "plt.ylabel(\"Lyapunov exponent\");\n",
    "plt.xlabel(\"Index of the Lyapunov exponent\");"
   ]
  },
  {
   "cell_type": "markdown",
   "metadata": {},
   "source": [
    "First exponent:"
   ]
  },
  {
   "cell_type": "code",
   "execution_count": 18,
   "metadata": {},
   "outputs": [
    {
     "data": {
      "text/plain": [
       "0.08201449048453724"
      ]
     },
     "execution_count": 18,
     "metadata": {},
     "output_type": "execute_result"
    }
   ],
   "source": [
    "mean_exp[0]"
   ]
  },
  {
   "cell_type": "markdown",
   "metadata": {},
   "source": [
    "Lyapunov time:"
   ]
  },
  {
   "cell_type": "code",
   "execution_count": 19,
   "metadata": {},
   "outputs": [
    {
     "data": {
      "text/plain": [
       "12.19296729263394"
      ]
     },
     "execution_count": 19,
     "metadata": {},
     "output_type": "execute_result"
    }
   ],
   "source": [
    "1/mean_exp[0]"
   ]
  },
  {
   "cell_type": "markdown",
   "metadata": {},
   "source": [
    "## Optional exercise: Computing the full spectrum of a land-atmosphere coupled system"
   ]
  },
  {
   "cell_type": "markdown",
   "metadata": {},
   "source": [
    "Use the [following example notebook](https://github.com/Climdyn/qgs/blob/master/notebooks/ground_heat.ipynb) to learn how to setup a [land-atmosphere coupled model](https://qgs.readthedocs.io/en/latest/files/model/li_model.html) and compute its Lyapunov spectrum. Compare this spectrum to the previous one."
   ]
  },
  {
   "cell_type": "code",
   "execution_count": 20,
   "metadata": {},
   "outputs": [],
   "source": [
    "# Model parameters instantiation with some non-default specs\n",
    "model_parameters = QgParams({'phi0_npi': np.deg2rad(50.)/np.pi, 'n':1.5})\n",
    "# Mode truncation at the wavenumber 2 in both x and y spatial coordinate for the atmosphere\n",
    "model_parameters.set_atmospheric_channel_fourier_modes(2, 2)\n",
    "# Same modes for the ground temperature modes\n",
    "model_parameters.set_ground_channel_fourier_modes()\n",
    "\n",
    "# Changing (increasing) the orography depth\n",
    "model_parameters.ground_params.set_orography(0.2, 1)\n",
    "# Setting the parameters of the heat transfer from the soil\n",
    "model_parameters.gotemperature_params.set_params({'gamma': 1.6e7})\n",
    "model_parameters.atemperature_params.set_params({ 'hlambda': 10.})\n"
   ]
  },
  {
   "cell_type": "code",
   "execution_count": 21,
   "metadata": {},
   "outputs": [],
   "source": [
    "model_parameters.atemperature_params.set_insolation(300*0.33, 0)\n",
    "model_parameters.gotemperature_params.set_insolation(300, 0)"
   ]
  },
  {
   "cell_type": "code",
   "execution_count": 22,
   "metadata": {},
   "outputs": [
    {
     "name": "stdout",
     "output_type": "stream",
     "text": [
      "CPU times: user 2.68 s, sys: 763 ms, total: 3.44 s\n",
      "Wall time: 2.54 s\n"
     ]
    }
   ],
   "source": [
    "%%time\n",
    "f, Df = create_tendencies(model_parameters)"
   ]
  },
  {
   "cell_type": "code",
   "execution_count": 23,
   "metadata": {},
   "outputs": [],
   "source": [
    "integrator.set_func(f)"
   ]
  },
  {
   "cell_type": "markdown",
   "metadata": {},
   "source": [
    "Start on a random initial condition and integrate over a transient time to obtain an initial condition on the attractors"
   ]
  },
  {
   "cell_type": "code",
   "execution_count": 24,
   "metadata": {},
   "outputs": [
    {
     "name": "stdout",
     "output_type": "stream",
     "text": [
      "CPU times: user 8.09 ms, sys: 34.5 ms, total: 42.6 ms\n",
      "Wall time: 11.1 s\n"
     ]
    }
   ],
   "source": [
    "%%time\n",
    "ic = np.random.rand(model_parameters.ndim)*0.1\n",
    "integrator.integrate(0., 200000., dt, ic=ic, write_steps=0)\n",
    "time, ic = integrator.get_trajectories()"
   ]
  },
  {
   "cell_type": "code",
   "execution_count": 25,
   "metadata": {},
   "outputs": [
    {
     "name": "stderr",
     "output_type": "stream",
     "text": [
      "/scratch/jodemaey/projects/qgs_lyap_dev/qgs/toolbox/lyapunov.py:557: NumbaPerformanceWarning: \u001b[1m\u001b[1m\u001b[1m\u001b[1m\u001b[1m'@' is faster on contiguous arrays, called on (array(float64, 2d, A), array(float64, 2d, C))\u001b[0m\u001b[0m\u001b[0m\u001b[0m\u001b[0m\n",
      "  recorded_traj, recorded_exp, recorded_vec = _compute_backward_lyap_traj_jit(f, fjac, pretime, time, ttraj, mdt,\n",
      "/scratch/jodemaey/projects/qgs_lyap_dev/qgs/toolbox/lyapunov.py:557: NumbaPerformanceWarning: \u001b[1m\u001b[1m\u001b[1m\u001b[1m'@' is faster on contiguous arrays, called on (array(float64, 2d, A), array(float64, 2d, C))\u001b[0m\u001b[0m\u001b[0m\u001b[0m\n",
      "  recorded_traj, recorded_exp, recorded_vec = _compute_backward_lyap_traj_jit(f, fjac, pretime, time, ttraj, mdt,\n",
      "/scratch/jodemaey/projects/qgs_lyap_dev/qgs/toolbox/lyapunov.py:557: NumbaPerformanceWarning: \u001b[1m\u001b[1m\u001b[1m'@' is faster on contiguous arrays, called on (array(float64, 2d, A), array(float64, 2d, A))\u001b[0m\u001b[0m\u001b[0m\n",
      "  recorded_traj, recorded_exp, recorded_vec = _compute_backward_lyap_traj_jit(f, fjac, pretime, time, ttraj, mdt,\n",
      "/scratch/jodemaey/projects/qgs_lyap_dev/qgs/toolbox/lyapunov.py:557: NumbaPerformanceWarning: \u001b[1m\u001b[1m'@' is faster on contiguous arrays, called on (array(float64, 2d, A), array(float64, 2d, A))\u001b[0m\u001b[0m\n",
      "  recorded_traj, recorded_exp, recorded_vec = _compute_backward_lyap_traj_jit(f, fjac, pretime, time, ttraj, mdt,\n"
     ]
    },
    {
     "name": "stdout",
     "output_type": "stream",
     "text": [
      "CPU times: user 268 ms, sys: 3.42 s, total: 3.69 s\n",
      "Wall time: 44.9 s\n"
     ]
    }
   ],
   "source": [
    "%%time\n",
    "\n",
    "lvint.set_func(f, Df)\n",
    "lvint.compute_lyapunovs(0., 10000., 20000., 0.1, 0.1, ic, write_steps=1)\n",
    "btl, btraj, bexp, bvec = lvint.get_lyapunovs()"
   ]
  },
  {
   "cell_type": "code",
   "execution_count": 26,
   "metadata": {},
   "outputs": [
    {
     "data": {
      "image/png": "[encoded data removed]",
      "text/plain": [
       "<Figure size 1080x288 with 1 Axes>"
      ]
     },
     "metadata": {
      "needs_background": "light"
     },
     "output_type": "display_data"
    }
   ],
   "source": [
    "plt.figure(figsize=(15, 4))\n",
    "\n",
    "mean_exp = np.mean(bexp, axis=-1) / model_parameters.dimensional_time\n",
    "\n",
    "x_pos = np.arange(1.,model_parameters.ndim+1,1)\n",
    "\n",
    "plt.bar(x_pos, mean_exp)\n",
    "\n",
    "plt.xticks(x_pos, map(str,range(1, model_parameters.ndim+1,1)))\n",
    "\n",
    "plt.xlim(x_pos[0]-1., x_pos[-1]+1.)\n",
    "plt.ylim(np.min(mean_exp)-0.1, np.max(mean_exp)+0.1)\n",
    "\n",
    "plt.ylabel(\"Lyapunov exponent\");\n",
    "plt.xlabel(\"Index of the Lyapunov exponent\");"
   ]
  },
  {
   "cell_type": "markdown",
   "metadata": {},
   "source": [
    "First exponent:"
   ]
  },
  {
   "cell_type": "code",
   "execution_count": 27,
   "metadata": {},
   "outputs": [
    {
     "data": {
      "text/plain": [
       "0.17780311672447668"
      ]
     },
     "execution_count": 27,
     "metadata": {},
     "output_type": "execute_result"
    }
   ],
   "source": [
    "mean_exp[0]"
   ]
  },
  {
   "cell_type": "markdown",
   "metadata": {},
   "source": [
    "Lyapunov time:"
   ]
  },
  {
   "cell_type": "code",
   "execution_count": 28,
   "metadata": {},
   "outputs": [
    {
     "data": {
      "text/plain": [
       "5.624198374146601"
      ]
     },
     "execution_count": 28,
     "metadata": {},
     "output_type": "execute_result"
    }
   ],
   "source": [
    "1/mean_exp[0]"
   ]
  },
  {
   "cell_type": "markdown",
   "metadata": {},
   "source": [
    "The End."
   ]
  }
 ],
 "metadata": {
  "kernelspec": {
   "display_name": "Python 3 (ipykernel)",
   "language": "python",
   "name": "python3"
  },
  "language_info": {
   "codemirror_mode": {
    "name": "ipython",
    "version": 3
   },
   "file_extension": ".py",
   "mimetype": "text/x-python",
   "name": "python",
   "nbconvert_exporter": "python",
   "pygments_lexer": "ipython3",
   "version": "3.8.2"
  }
 },
 "nbformat": 4,
 "nbformat_minor": 2
}
